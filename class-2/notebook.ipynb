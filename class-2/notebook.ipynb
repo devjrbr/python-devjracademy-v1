{
  "nbformat": 4,
  "nbformat_minor": 0,
  "metadata": {
    "colab": {
      "provenance": []
    },
    "kernelspec": {
      "name": "python3",
      "display_name": "Python 3"
    },
    "language_info": {
      "name": "python"
    }
  },
  "cells": [
    {
      "cell_type": "markdown",
      "source": [
        "# DevJrBr - Python do Início\n",
        "## Encontro 2 - Tipos de dados embutidos\n",
        "- `boolean`\n",
        "- Numéricos\n",
        "   - `int`: inteiros\n",
        "   - `float`: ponto flutuante\n",
        "   - `complex`: números complexos\n",
        "- Tipos sequências\n",
        "   - `list`\n",
        "   - `tuple`\n",
        "   - `range`\n",
        "- `string`\n",
        "- Tipos conjuntos\n",
        "   - `set`\n",
        "   - `frozenset`\n",
        "- Mapa\n",
        "   - `dict`\n",
        "\n",
        "## Links úteis\n",
        "\n",
        "- Documentação Oficial Python 3\n",
        "  - [Tipos embutidos](https://docs.python.org/pt-br/3/library/stdtypes.html)\n",
        "  - [Duck Typing](https://docs.python.org/pt-br/3/glossary.html?highlight=duck%20typing#term-duck-typing)\n",
        "- [Python Data Structures with Primitive & Non-Primitive Examples | DataCamp](https://www.datacamp.com/tutorial/data-structures-python)\n",
        "- [Tipos de Variáveis disponíveis no Python - python academy](https://pythonacademy.com.br/blog/tipos-de-variaveis-no-python)\n",
        "- [Tutorial: Why Functions Modify Lists and Dictionaries in Python](https://www.dataquest.io/blog/tutorial-functions-modify-lists-dictionaries-python/)\n"
      ],
      "metadata": {
        "id": "lYm2CZG3xwEF"
      }
    },
    {
      "cell_type": "code",
      "source": [
        "import platform\n",
        "\n",
        "platform.python_version()"
      ],
      "metadata": {
        "colab": {
          "base_uri": "https://localhost:8080/",
          "height": 35
        },
        "id": "n0rKM6PUcWOv",
        "outputId": "100f3e28-9818-447b-c5f0-fef53e856803"
      },
      "execution_count": 9,
      "outputs": [
        {
          "output_type": "execute_result",
          "data": {
            "text/plain": [
              "'3.10.11'"
            ],
            "application/vnd.google.colaboratory.intrinsic+json": {
              "type": "string"
            }
          },
          "metadata": {},
          "execution_count": 9
        }
      ]
    },
    {
      "cell_type": "markdown",
      "source": [
        "# Boolean\n",
        "\n",
        "Teste do valor verdade\n",
        "\n",
        "Qualquer objeto pode ser testado quanto ao valor de verdade, para uso em uma condição if ou while ou como operando das operações booleanas abaixo.\n",
        "\n",
        "Por padrão, um objeto é considerado verdadeiro, a menos que sua a classe defina um método __bool__() que retorne False ou um método __len__() que retorna zero, quando chamado com o objeto. 1 Aqui estão a maioria dos objetos embutidos considerados falsos:\n",
        "\n",
        "    constantes definidas para serem falsas: None e False.\n",
        "\n",
        "    zero de qualquer tipo numérico: 0, 0.0, 0j, Decimal(0), Fraction(0, 1)\n",
        "\n",
        "    sequências e coleções vazias: '', (), [], {}, set(), range(0)\n",
        "\n",
        "Operações e funções embutidas que têm um resultado Booleano retornam 0 ou False para falso e 1 ou True para verdadeiro, salvo indicações ao contrário. (Exceção importante: as operações Booleanas or e and sempre retornam um de seus operandos.)"
      ],
      "metadata": {
        "id": "JMXl2izrs5EL"
      }
    },
    {
      "cell_type": "code",
      "source": [
        "resultado = False or 'Fábio é ok'\n",
        "print(resultado)"
      ],
      "metadata": {
        "colab": {
          "base_uri": "https://localhost:8080/"
        },
        "id": "C1MoDVf8dIx-",
        "outputId": "b70d5f6c-0b48-4379-b5b2-3a7987a480f9"
      },
      "execution_count": 12,
      "outputs": [
        {
          "output_type": "stream",
          "name": "stdout",
          "text": [
            "Fábio é ok\n"
          ]
        }
      ]
    },
    {
      "cell_type": "code",
      "execution_count": 15,
      "metadata": {
        "id": "wapS1sxIxiEc",
        "colab": {
          "base_uri": "https://localhost:8080/"
        },
        "outputId": "159cb6ea-d856-4f99-8bb1-bbf3ed57b724"
      },
      "outputs": [
        {
          "output_type": "stream",
          "name": "stdout",
          "text": [
            "\"or\" é OU:\n",
            "    False OU False == False\n",
            "    False OU True == True\n",
            "    False OU Luis == Luis\n",
            "    True OU True == True\n",
            "\"and\" é E:\n",
            "    False E False == False\n",
            "    False E True == False\n",
            "    True E True == True\n",
            "\"not\" é NÃO:\n",
            "   NÃO False == True\n",
            "   NÃO == True False\n"
          ]
        }
      ],
      "source": [
        "# boolean\n",
        "## e exemplos de operaçoes com boolean\n",
        "a = True\n",
        "b = False\n",
        "\n",
        "print('\"or\" é OU:')\n",
        "print('   ', False, 'OU', False, '==', False or False)\n",
        "print('   ', False, 'OU', True, '==', False or True)\n",
        "print('   ', False, 'OU', 'Luis', '==', False or 'Luis')\n",
        "print('   ', True, 'OU', True, '==', True or True)\n",
        "\n",
        "a_e_b = a and b\n",
        "print('\"and\" é E:')\n",
        "print('   ', False, 'E', False, '==', False and False)\n",
        "print('   ', False, 'E', True, '==', False and True)\n",
        "print('   ', True, 'E', True, '==', True and True)\n",
        "\n",
        "print('\"not\" é NÃO:')\n",
        "nao_a = not a\n",
        "print('   NÃO', False, '==', not False)\n",
        "nao_b = not b\n",
        "print('   NÃO', '==', True, not True)"
      ]
    },
    {
      "cell_type": "code",
      "source": [
        "# comparações\n",
        "## operações de comparação resultam em valores 'boolean' (True, False)\n",
        "mundiais_inter = 1\n",
        "mundiais_gremio = 0\n",
        "inter_mais_mundiais_gremio = mundiais_inter > mundiais_gremio\n",
        "print('Inter tem mais mundiais do que o Grêmio?', inter_mais_mundiais_gremio)\n",
        "\n",
        "mundiais_palmeiras = 0\n",
        "palmeiras_menos_mundiais_inter = mundiais_palmeiras < mundiais_inter\n",
        "print('Palmeiras tem menos mundiais do que o Inter?', palmeiras_menos_mundiais_inter)\n",
        "\n",
        "gremio_nao_tem_mundial = mundiais_gremio == 0\n",
        "print('Grêmio não tem mundial?', gremio_nao_tem_mundial)\n",
        "\n",
        "palmeiras_tem_mundial = mundiais_palmeiras >= 1\n",
        "print('Palmeiras tem mundial?', palmeiras_tem_mundial)"
      ],
      "metadata": {
        "id": "OprX7Nr93D1z",
        "colab": {
          "base_uri": "https://localhost:8080/"
        },
        "outputId": "f75ffa1b-3e59-4c63-a7de-0b395610a662"
      },
      "execution_count": 16,
      "outputs": [
        {
          "output_type": "stream",
          "name": "stdout",
          "text": [
            "Inter tem mais mundiais do que o Grêmio? True\n",
            "Palmeiras tem menos mundiais do que o Inter? True\n",
            "Grêmio não tem mundial? True\n",
            "Palmeiras tem mundial? False\n"
          ]
        }
      ]
    },
    {
      "cell_type": "markdown",
      "source": [
        "# Tipos numéricos\n",
        "\n",
        "Existem três tipos numéricos distintos: inteiros, números de ponto flutuante e números complexos. Além disso, os booleanos são um subtipo de números inteiros. Inteiros têm precisão ilimitada. Números de ponto flutuante são geralmente implementados usando double em C; informações sobre a precisão e representação interna dos números de ponto flutuante para a máquina na qual seu programa está sendo executado estão disponíveis em sys.float_info. Números complexos têm uma parte real e imaginária, cada um com um número de ponto flutuante. Para extrair essas partes de um número complexo z, use z.real e z.imag. (A biblioteca padrão inclui os tipos numéricos adicionais fractions.Fraction, para racionais, e decimal.Decimal, para números de ponto flutuante com precisão definida pelo usuário.)"
      ],
      "metadata": {
        "id": "1pmWHyGBs8f6"
      }
    },
    {
      "cell_type": "code",
      "source": [
        "# Tipos numéricos\n",
        "\n",
        "inteiro = -100\n",
        "ponto_flutuante = 0.3\n",
        "complexo = complex(2, 1)\n",
        "\n",
        "print(inteiro, ponto_flutuante, complexo, sep=', ')\n",
        "\n",
        "print(inteiro, '+', ponto_flutuante, '==', inteiro + ponto_flutuante)\n",
        "\n",
        "print(inteiro, '+', complexo, '==', inteiro + complexo)\n",
        "\n",
        "print(ponto_flutuante, '+', complexo, '==', ponto_flutuante + complexo)"
      ],
      "metadata": {
        "id": "zuoFeyTh31O9",
        "colab": {
          "base_uri": "https://localhost:8080/"
        },
        "outputId": "4697e17a-2a1c-46e6-d316-5d8a5e472814"
      },
      "execution_count": 19,
      "outputs": [
        {
          "output_type": "stream",
          "name": "stdout",
          "text": [
            "-100, 0.3, (2+1j)\n",
            "-100 + 0.3 == -99.7\n",
            "-100 + (2+1j) == (-98+1j)\n",
            "0.3 + (2+1j) == (2.3+1j)\n"
          ]
        }
      ]
    },
    {
      "cell_type": "markdown",
      "source": [
        "### Problemas da vida real\n",
        "Mais detalhes em https://docs.python.org/3/tutorial/floatingpoint.html"
      ],
      "metadata": {
        "id": "Fhg0A0h9gZ7a"
      }
    },
    {
      "cell_type": "code",
      "source": [
        "print('Hehehehehehe', ponto_flutuante, '* 3', '==', ponto_flutuante*3)"
      ],
      "metadata": {
        "id": "i5lJVdvLgSez",
        "colab": {
          "base_uri": "https://localhost:8080/"
        },
        "outputId": "c07990e1-d9a6-44e1-bc8c-c4c871a50e21"
      },
      "execution_count": 20,
      "outputs": [
        {
          "output_type": "stream",
          "name": "stdout",
          "text": [
            "Hehehehehehe 0.3 * 3 == 0.8999999999999999\n"
          ]
        }
      ]
    },
    {
      "cell_type": "markdown",
      "source": [
        "# Tipos sequências\n",
        "\n",
        "Existem três tipos básicos de sequência: listas, tuplas e objetos range. Tipos de sequência adicionais adaptados para o processamento de dados binários e strings de texto são descritos em seções dedicadas.\n",
        "Operações comuns de sequências\n",
        "\n",
        "As operações nas seguintes tabelas são suportadas pela maioria dos tipos sequências, ambos mutáveis e imutáveis. A classe ABC collections.abc.Sequence é fornecida para tornar fácil a correta implementação desses operadores em tipos sequências personalizados.\n"
      ],
      "metadata": {
        "id": "wyWrGNe_tAs-"
      }
    },
    {
      "cell_type": "code",
      "source": [
        "# Tipos sequências\n",
        "# listas\n",
        "libertadores_inter = [2006, 2010,]\n",
        "libertadores_gremio = [ 1995, 2017, ]\n",
        "libertadores_gauchas = libertadores_inter + libertadores_gremio\n",
        "libertadores_gauchas\n"
      ],
      "metadata": {
        "id": "GrC_j9si5N3U",
        "colab": {
          "base_uri": "https://localhost:8080/"
        },
        "outputId": "e9537bfd-610e-45c2-ba94-488d5c3fd509"
      },
      "execution_count": 23,
      "outputs": [
        {
          "output_type": "execute_result",
          "data": {
            "text/plain": [
              "[2006, 2010, 1995, 2017]"
            ]
          },
          "metadata": {},
          "execution_count": 23
        }
      ]
    },
    {
      "cell_type": "code",
      "source": [
        "# Tipos sequências\n",
        "# listas (cont)\n",
        "\n",
        "# esqueci uma libertadores empoeirada do Greminho :D\n",
        "# podemos adicionar à lista\n",
        "libertadores_gremio.append(1983)\n",
        "libertadores_gauchas = libertadores_inter + libertadores_gremio\n",
        "libertadores_gauchas\n"
      ],
      "metadata": {
        "id": "TFEbJVl_6q0n",
        "colab": {
          "base_uri": "https://localhost:8080/"
        },
        "outputId": "ec5129d4-c465-4a0a-9c47-7da7bfda9c74"
      },
      "execution_count": 24,
      "outputs": [
        {
          "output_type": "execute_result",
          "data": {
            "text/plain": [
              "[2006, 2010, 1995, 2017, 1983]"
            ]
          },
          "metadata": {},
          "execution_count": 24
        }
      ]
    },
    {
      "cell_type": "code",
      "source": [
        "libertadores = libertadores_inter - libertadores_gremio\n",
        "libertadores"
      ],
      "metadata": {
        "colab": {
          "base_uri": "https://localhost:8080/",
          "height": 185
        },
        "id": "LtUmUpTJqua1",
        "outputId": "096247f0-6408-49a1-9f7f-63d94af2b083"
      },
      "execution_count": 26,
      "outputs": [
        {
          "output_type": "error",
          "ename": "TypeError",
          "evalue": "ignored",
          "traceback": [
            "\u001b[0;31m---------------------------------------------------------------------------\u001b[0m",
            "\u001b[0;31mTypeError\u001b[0m                                 Traceback (most recent call last)",
            "\u001b[0;32m<ipython-input-26-5c2df78e76b2>\u001b[0m in \u001b[0;36m<cell line: 1>\u001b[0;34m()\u001b[0m\n\u001b[0;32m----> 1\u001b[0;31m \u001b[0mlibertadores\u001b[0m \u001b[0;34m=\u001b[0m \u001b[0mlibertadores_inter\u001b[0m \u001b[0;34m-\u001b[0m \u001b[0mlibertadores_gremio\u001b[0m\u001b[0;34m\u001b[0m\u001b[0;34m\u001b[0m\u001b[0m\n\u001b[0m\u001b[1;32m      2\u001b[0m \u001b[0mlibertadores\u001b[0m\u001b[0;34m\u001b[0m\u001b[0;34m\u001b[0m\u001b[0m\n",
            "\u001b[0;31mTypeError\u001b[0m: unsupported operand type(s) for -: 'list' and 'list'"
          ]
        }
      ]
    },
    {
      "cell_type": "code",
      "source": [
        "lista = [2010, 0.3, complex(2, 1), 'texto', False, None, ['foi que é uma beleza']]\n",
        "\n",
        "# tamanho = len(lista)\n",
        "# lista[4]\n",
        "# lista[tamanho - 1]\n",
        "lista[8]"
      ],
      "metadata": {
        "colab": {
          "base_uri": "https://localhost:8080/",
          "height": 202
        },
        "id": "DPw3R-dRq5h6",
        "outputId": "e8740cc6-8aae-4354-dada-61b840c22741"
      },
      "execution_count": 35,
      "outputs": [
        {
          "output_type": "error",
          "ename": "IndexError",
          "evalue": "ignored",
          "traceback": [
            "\u001b[0;31m---------------------------------------------------------------------------\u001b[0m",
            "\u001b[0;31mIndexError\u001b[0m                                Traceback (most recent call last)",
            "\u001b[0;32m<ipython-input-35-22ffc860aa85>\u001b[0m in \u001b[0;36m<cell line: 6>\u001b[0;34m()\u001b[0m\n\u001b[1;32m      4\u001b[0m \u001b[0;31m# lista[4]\u001b[0m\u001b[0;34m\u001b[0m\u001b[0;34m\u001b[0m\u001b[0m\n\u001b[1;32m      5\u001b[0m \u001b[0;31m# lista[tamanho - 1]\u001b[0m\u001b[0;34m\u001b[0m\u001b[0;34m\u001b[0m\u001b[0m\n\u001b[0;32m----> 6\u001b[0;31m \u001b[0mlista\u001b[0m\u001b[0;34m[\u001b[0m\u001b[0;36m8\u001b[0m\u001b[0;34m]\u001b[0m\u001b[0;34m\u001b[0m\u001b[0;34m\u001b[0m\u001b[0m\n\u001b[0m",
            "\u001b[0;31mIndexError\u001b[0m: list index out of range"
          ]
        }
      ]
    },
    {
      "cell_type": "code",
      "source": [
        "# Tipos sequências\n",
        "# tuplas\n",
        "libertadores_inter_tupla = ( 2006, 2010, )\n",
        "libertadores_gremio_tupla = ( 1995, 2017, )\n",
        "libertadores_gauchas_tupla = libertadores_inter_tupla + libertadores_gremio_tupla\n",
        "libertadores_gauchas_tupla"
      ],
      "metadata": {
        "id": "P2u9siai6C8i",
        "colab": {
          "base_uri": "https://localhost:8080/"
        },
        "outputId": "f16f87eb-67b7-44a9-bb4c-a93cc3913efb"
      },
      "execution_count": 36,
      "outputs": [
        {
          "output_type": "execute_result",
          "data": {
            "text/plain": [
              "(2006, 2010, 1995, 2017)"
            ]
          },
          "metadata": {},
          "execution_count": 36
        }
      ]
    },
    {
      "cell_type": "code",
      "source": [
        "# Tipos sequências\n",
        "# tuplas (cont)\n",
        "## ops, esqueci mais uma vez aquela libertadores de 1900 e guaraná com rolha\n",
        "libertadores_gremio_tupla.append(1983)\n",
        "libertadores_gauchas_tupla = libertadores_inter_tupla + libertadores_gremio_tupla\n",
        "libertadores_gauchas_tupla"
      ],
      "metadata": {
        "id": "JYr2AjTN64Fx",
        "colab": {
          "base_uri": "https://localhost:8080/",
          "height": 237
        },
        "outputId": "4be29bd4-bcdb-4c43-9284-96ec6037eb2d"
      },
      "execution_count": 37,
      "outputs": [
        {
          "output_type": "error",
          "ename": "AttributeError",
          "evalue": "ignored",
          "traceback": [
            "\u001b[0;31m---------------------------------------------------------------------------\u001b[0m",
            "\u001b[0;31mAttributeError\u001b[0m                            Traceback (most recent call last)",
            "\u001b[0;32m<ipython-input-37-ed0bec628316>\u001b[0m in \u001b[0;36m<cell line: 4>\u001b[0;34m()\u001b[0m\n\u001b[1;32m      2\u001b[0m \u001b[0;31m# tuplas (cont)\u001b[0m\u001b[0;34m\u001b[0m\u001b[0;34m\u001b[0m\u001b[0m\n\u001b[1;32m      3\u001b[0m \u001b[0;31m## ops, esqueci mais uma vez aquela libertadores de 1900 e guaraná com rolha\u001b[0m\u001b[0;34m\u001b[0m\u001b[0;34m\u001b[0m\u001b[0m\n\u001b[0;32m----> 4\u001b[0;31m \u001b[0mlibertadores_gremio_tupla\u001b[0m\u001b[0;34m.\u001b[0m\u001b[0mappend\u001b[0m\u001b[0;34m(\u001b[0m\u001b[0;36m1983\u001b[0m\u001b[0;34m)\u001b[0m\u001b[0;34m\u001b[0m\u001b[0;34m\u001b[0m\u001b[0m\n\u001b[0m\u001b[1;32m      5\u001b[0m \u001b[0mlibertadores_gauchas_tupla\u001b[0m \u001b[0;34m=\u001b[0m \u001b[0mlibertadores_inter_tupla\u001b[0m \u001b[0;34m+\u001b[0m \u001b[0mlibertadores_gremio_tupla\u001b[0m\u001b[0;34m\u001b[0m\u001b[0;34m\u001b[0m\u001b[0m\n\u001b[1;32m      6\u001b[0m \u001b[0mlibertadores_gauchas_tupla\u001b[0m\u001b[0;34m\u001b[0m\u001b[0;34m\u001b[0m\u001b[0m\n",
            "\u001b[0;31mAttributeError\u001b[0m: 'tuple' object has no attribute 'append'"
          ]
        }
      ]
    },
    {
      "cell_type": "code",
      "source": [
        "# Tipos sequências\n",
        "# range\n",
        "\n",
        "range_simples = range(10)\n",
        "range_com_inicio = range(1, 10)\n",
        "range_com_inicio_e_passo = range(1, 10, 3)\n",
        "\n",
        "print(range_simples, range_com_inicio, range_com_inicio_e_passo, sep=',')"
      ],
      "metadata": {
        "id": "bUawDb3k7CRa",
        "colab": {
          "base_uri": "https://localhost:8080/"
        },
        "outputId": "7f06b474-f843-49a7-8094-b03ff0625d22"
      },
      "execution_count": 38,
      "outputs": [
        {
          "output_type": "stream",
          "name": "stdout",
          "text": [
            "range(0, 10),range(1, 10),range(1, 10, 3)\n"
          ]
        }
      ]
    },
    {
      "cell_type": "code",
      "source": [
        "# Tipos sequências\n",
        "# range (cont.)\n",
        "print(list(range_simples))\n",
        "print(3 in range_simples)\n",
        "\n",
        "print(list(range_com_inicio_e_passo))\n",
        "print(3 in range_com_inicio_e_passo)\n",
        "\n"
      ],
      "metadata": {
        "id": "MeDyljad7sid",
        "colab": {
          "base_uri": "https://localhost:8080/"
        },
        "outputId": "b66b7c9b-5fbc-41e8-a7c4-0d046019fba6"
      },
      "execution_count": 40,
      "outputs": [
        {
          "output_type": "stream",
          "name": "stdout",
          "text": [
            "[0, 1, 2, 3, 4, 5, 6, 7, 8, 9]\n",
            "True\n",
            "[1, 4, 7]\n",
            "False\n"
          ]
        }
      ]
    },
    {
      "cell_type": "code",
      "source": [
        "print(list(range_simples[:3]))\n",
        "print(range_simples[5])"
      ],
      "metadata": {
        "colab": {
          "base_uri": "https://localhost:8080/"
        },
        "id": "AFa1X59DuFKC",
        "outputId": "ee1137f7-bc52-4729-d25f-e34b41262adb"
      },
      "execution_count": 44,
      "outputs": [
        {
          "output_type": "stream",
          "name": "stdout",
          "text": [
            "[0, 1, 2]\n",
            "5\n"
          ]
        }
      ]
    },
    {
      "cell_type": "code",
      "source": [
        "# Tipos sequências\n",
        "# metodos padrão\n",
        "\n",
        "titulos_gauchos_inter = (\n",
        "    1927, 1934, 1940, 1941, 1942, 1943, 1944, 1945, 1947, 1948,\n",
        "    1950, 1951, 1952, 1953, 1955, 1961, 1969, 1970, 1971, 1972,\n",
        "    1973, 1974, 1975, 1976, 1978, 1981, 1982, 1983, 1984, 1991,\n",
        "    1992, 1994, 1997, 2002, 2003, 2004, 2005, 2008, 2009, 2011,\n",
        "    2012, 2013, 2014, 2015, 2016,\n",
        ")\n",
        "titulos_gauchos_gremio = [    \n",
        "    1921, 1922, 1926, 1931, 1932, 1946, 1949, 1956, 1957, 1958,\n",
        "    1959, 1960, 1962, 1963, 2023, 1964, 1965, 1966, 1967, 1968, \n",
        "    1979, 1980, 1985, 1986, 1987, 1988, 1989, 1990, 1993, 1995,\n",
        "    1996, 1999, 2001, 2006, 2007, 2010, 2018, 2019, 2020, 2021,\n",
        "    2022, 1977,\n",
        "]\n",
        "\n",
        "# len - tamanho\n",
        "print('Quantidade de títulos.', 'Inter:', len(titulos_gauchos_inter), 'Grêmio:', len(titulos_gauchos_gremio))\n",
        "\n",
        "# min - menor valor\n",
        "print('Primeiro título.', 'Inter:', min(titulos_gauchos_inter), 'Grêmio:', min(titulos_gauchos_gremio))\n",
        "\n",
        "# max - maior valor\n",
        "print('Último título.', 'Inter:', max(titulos_gauchos_inter), 'Grêmio:', max(titulos_gauchos_gremio))\n",
        "\n"
      ],
      "metadata": {
        "id": "LBp3V3Z38PUz",
        "colab": {
          "base_uri": "https://localhost:8080/"
        },
        "outputId": "4c9b6033-8524-406c-ec1c-ec6c94737a56"
      },
      "execution_count": 46,
      "outputs": [
        {
          "output_type": "stream",
          "name": "stdout",
          "text": [
            "Quantidade de títulos. Inter: 45 Grêmio: 42\n",
            "Primeiro título. Inter: 1927 Grêmio: 1921\n",
            "Último título. Inter: 2016 Grêmio: 2023\n"
          ]
        }
      ]
    },
    {
      "cell_type": "code",
      "source": [
        "# in - contém elemento X\n",
        "campeao_de_tudo = 'campeão de tudo'\n",
        "feitos_do_inter = ('campeão brasileiro invicto', campeao_de_tudo, )\n",
        "feitos_do_gremio = ['tri rebaixado', 'nenhum chute a gol contra o Real Madrid', ]\n",
        "\n",
        "print('Inter é campeão de tudo?', campeao_de_tudo in feitos_do_inter)\n",
        "print('Grêmio é campeão de tudo?', campeao_de_tudo in feitos_do_gremio)"
      ],
      "metadata": {
        "colab": {
          "base_uri": "https://localhost:8080/"
        },
        "id": "kRBZgH9wvXHK",
        "outputId": "2ccc18fb-49c6-4edf-c184-536c2c3611cf"
      },
      "execution_count": 47,
      "outputs": [
        {
          "output_type": "stream",
          "name": "stdout",
          "text": [
            "Inter é campeão de tudo? True\n",
            "Grêmio é campeão de tudo? False\n"
          ]
        }
      ]
    },
    {
      "cell_type": "markdown",
      "source": [
        "# Strings\n",
        "\n",
        "Os dados textuais em Python são tratados com objetos str, ou strings. Strings são sequências imutáveis de pontos de código Unicode. As strings literais são escritas de diversas maneiras:\n",
        "\n",
        "    Aspas simples: 'permitem aspas \"duplas\" internas'\n",
        "\n",
        "    Aspas duplas: \"permitem aspas 'simples' internas\"\n",
        "\n",
        "    Aspas triplas: '''Três aspas simples''', \"\"\"Três aspas duplas\"\"\"\n",
        "\n",
        "Strings de aspas triplas podem expandir por várias linhas – todos os espaços em branco associados serão incluídos em literal string."
      ],
      "metadata": {
        "id": "WSGa5_tLtFUc"
      }
    },
    {
      "cell_type": "code",
      "source": [
        "# string\n",
        "##    Aspas simples: 'permitem aspas \"duplas\" internas'\n",
        "##    Aspas duplas: \"permitem aspas 'simples' internas\"\n",
        "##   Aspas triplas: '''Três aspas simples''', \"\"\"Três aspas duplas\"\"\"\n",
        "\n",
        "(\"brasil \" \"brasileiro\") == \"brasil brasileiro\"\n",
        "\n",
        "(\n",
        "    'iofhdiouhfsdioufhiufdhfsiouohfduiofhsdiufhsiuufshiufsdhuisfd '\n",
        "    'uarheiuhaeiouehauiohaeiouhaeiueahoae '\n",
        ")\n"
      ],
      "metadata": {
        "id": "usGVWNtJ0aUG",
        "colab": {
          "base_uri": "https://localhost:8080/",
          "height": 35
        },
        "outputId": "543f473f-9fd2-48c3-c1fd-9bb77ddf800c"
      },
      "execution_count": 49,
      "outputs": [
        {
          "output_type": "execute_result",
          "data": {
            "text/plain": [
              "'iofhdiouhfsdioufhiufdhfsiouohfduiofhsdiufhsiuufshiufsdhuisfd uarheiuhaeiouehauiohaeiouhaeiueahoae '"
            ],
            "application/vnd.google.colaboratory.intrinsic+json": {
              "type": "string"
            }
          },
          "metadata": {},
          "execution_count": 49
        }
      ]
    },
    {
      "cell_type": "code",
      "source": [
        "print('fábio'.lower().endswith('io'))\n",
        "print('fábio'.upper().startswith('FÁ'))\n",
        "'fábio'[-2:] == 'io'\n",
        "'fábio'[:2].upper() == 'FÁ'"
      ],
      "metadata": {
        "colab": {
          "base_uri": "https://localhost:8080/"
        },
        "id": "U1M8msynw6z2",
        "outputId": "db587bfb-e176-48d9-c9d2-988f43ccf5ab"
      },
      "execution_count": 66,
      "outputs": [
        {
          "output_type": "stream",
          "name": "stdout",
          "text": [
            "True\n",
            "True\n"
          ]
        },
        {
          "output_type": "execute_result",
          "data": {
            "text/plain": [
              "True"
            ]
          },
          "metadata": {},
          "execution_count": 66
        }
      ]
    },
    {
      "cell_type": "code",
      "source": [
        "texto = 'um texto bonito'\n",
        "texto = 'ok  ko'\n",
        "texto = 'ok  ko'\n",
        "texto.upper()"
      ],
      "metadata": {
        "colab": {
          "base_uri": "https://localhost:8080/",
          "height": 35
        },
        "id": "zmdto6F2yKHB",
        "outputId": "21965538-25eb-4a6d-e043-dc8761eb9f95"
      },
      "execution_count": 73,
      "outputs": [
        {
          "output_type": "execute_result",
          "data": {
            "text/plain": [
              "'OK  KO'"
            ],
            "application/vnd.google.colaboratory.intrinsic+json": {
              "type": "string"
            }
          },
          "metadata": {},
          "execution_count": 73
        }
      ]
    },
    {
      "cell_type": "code",
      "source": [
        "print('fábio'.upper())\n",
        "print('fábio'.upper().endswith('io'))\n",
        "print('fábio'.upper().startswith('FÁ'))\n",
        "print('fábio'.upper().split('B'))"
      ],
      "metadata": {
        "id": "BCH8Fj-QictM",
        "colab": {
          "base_uri": "https://localhost:8080/"
        },
        "outputId": "b2bf3a1e-c778-42fb-e5bf-6635601c232f"
      },
      "execution_count": 54,
      "outputs": [
        {
          "output_type": "stream",
          "name": "stdout",
          "text": [
            "FÁBIO\n",
            "False\n",
            "True\n",
            "['FÁ', 'IO']\n"
          ]
        }
      ]
    },
    {
      "cell_type": "markdown",
      "source": [
        "# Tipos conjuntos (set e frozenset)\n",
        "\n",
        "Um objeto conjunto é uma coleção não ordenada de objetos hasheáveis distintos. Usos comuns incluem testes de associação, remover duplicatas de uma sequência e computar operações matemáticas tais como interseção, união, diferença e diferença simétrica. (Para outros tipos de contêineres veja as classes embutidas dict, list e tuple, e o módulo collections.)"
      ],
      "metadata": {
        "id": "oqYZxddjtIYl"
      }
    },
    {
      "cell_type": "code",
      "source": [
        "# Tipos conjuntos\n",
        "## set\n",
        "## frozenset\n",
        "\n",
        "lista = (12, 2, 4, 4, 5, 56 ,765, 687, 876,76 ,987, 'wywiusyrhious', 56, 'wywiusyrhious',876,876,876,876,876,876,)\n",
        "len(lista)\n"
      ],
      "metadata": {
        "id": "-zhdW6wR0a6i",
        "colab": {
          "base_uri": "https://localhost:8080/"
        },
        "outputId": "f5a5c8a7-26ad-4ec0-b417-99f3456ae31b"
      },
      "execution_count": 79,
      "outputs": [
        {
          "output_type": "execute_result",
          "data": {
            "text/plain": [
              "20"
            ]
          },
          "metadata": {},
          "execution_count": 79
        }
      ]
    },
    {
      "cell_type": "code",
      "source": [
        "lista_unicos = frozenset(lista)\n",
        "len(lista_unicos)"
      ],
      "metadata": {
        "colab": {
          "base_uri": "https://localhost:8080/"
        },
        "id": "6iEV6huw0EvB",
        "outputId": "b0ee9bd5-0259-4679-e019-bd9f756cfff1"
      },
      "execution_count": 84,
      "outputs": [
        {
          "output_type": "execute_result",
          "data": {
            "text/plain": [
              "11"
            ]
          },
          "metadata": {},
          "execution_count": 84
        }
      ]
    },
    {
      "cell_type": "code",
      "source": [
        "lista_unicos.add(13)\n",
        "len(lista_unicos)"
      ],
      "metadata": {
        "colab": {
          "base_uri": "https://localhost:8080/",
          "height": 185
        },
        "id": "1Txg9nDV0b-x",
        "outputId": "b7b61fe1-0a2a-4ee3-c780-a8d5dda3f714"
      },
      "execution_count": 85,
      "outputs": [
        {
          "output_type": "error",
          "ename": "AttributeError",
          "evalue": "ignored",
          "traceback": [
            "\u001b[0;31m---------------------------------------------------------------------------\u001b[0m",
            "\u001b[0;31mAttributeError\u001b[0m                            Traceback (most recent call last)",
            "\u001b[0;32m<ipython-input-85-88e7ec906bed>\u001b[0m in \u001b[0;36m<cell line: 1>\u001b[0;34m()\u001b[0m\n\u001b[0;32m----> 1\u001b[0;31m \u001b[0mlista_unicos\u001b[0m\u001b[0;34m.\u001b[0m\u001b[0madd\u001b[0m\u001b[0;34m(\u001b[0m\u001b[0;36m13\u001b[0m\u001b[0;34m)\u001b[0m\u001b[0;34m\u001b[0m\u001b[0;34m\u001b[0m\u001b[0m\n\u001b[0m\u001b[1;32m      2\u001b[0m \u001b[0mlen\u001b[0m\u001b[0;34m(\u001b[0m\u001b[0mlista_unicos\u001b[0m\u001b[0;34m)\u001b[0m\u001b[0;34m\u001b[0m\u001b[0;34m\u001b[0m\u001b[0m\n",
            "\u001b[0;31mAttributeError\u001b[0m: 'frozenset' object has no attribute 'add'"
          ]
        }
      ]
    },
    {
      "cell_type": "code",
      "source": [
        "a = {1, 2, 3, 4, 5, 6, 7, 8, 9, 10, }\n",
        "\n",
        "len(a)"
      ],
      "metadata": {
        "colab": {
          "base_uri": "https://localhost:8080/"
        },
        "id": "aTyf0Y2L0-os",
        "outputId": "71461b46-cf0e-468f-915b-06c707aeb348"
      },
      "execution_count": 86,
      "outputs": [
        {
          "output_type": "execute_result",
          "data": {
            "text/plain": [
              "10"
            ]
          },
          "metadata": {},
          "execution_count": 86
        }
      ]
    },
    {
      "cell_type": "code",
      "source": [
        "a.add(11)\n",
        "len(a)\n",
        "type(a)"
      ],
      "metadata": {
        "colab": {
          "base_uri": "https://localhost:8080/"
        },
        "id": "HjRaX93d1ES1",
        "outputId": "8d12aa96-9464-4396-fb0d-608b4e87cace"
      },
      "execution_count": 89,
      "outputs": [
        {
          "output_type": "execute_result",
          "data": {
            "text/plain": [
              "set"
            ]
          },
          "metadata": {},
          "execution_count": 89
        }
      ]
    },
    {
      "cell_type": "markdown",
      "source": [
        "# Tipo mapa (dict)\n",
        "\n",
        "Um objeto mapeamento mapeia valores hasheáveis para objetos arbitrários. Mapeamentos são objetos mutáveis. Existe no momento apenas um tipo de mapeamento padrão, o dicionário. (Para outros contêineres, veja as classes embutidas list, set e tuple, e o módulo collections.)\n",
        "\n",
        "As chaves de um dicionário são quase valores arbitrários. Valores que não são hasheáveis, ou seja, valores contendo listas, dicionários ou outros tipos mutáveis (que são comparados por valor e não por identidade de objeto) não podem ser usados como chaves. Valores que comparam iguais (como 1, 1.0 e True) podem ser usados alternadamente para indexar a mesma entrada do dicionário."
      ],
      "metadata": {
        "id": "-a4DOzvPtMUw"
      }
    },
    {
      "cell_type": "code",
      "source": [
        "# Mapa\n",
        "## dict\n",
        "\n",
        "sou_dicionario = {\n",
        "    100: ('Porto Alegre', 1_500_000),\n",
        "    1: ('São Paulo', 12_500_000),\n",
        "}\n",
        "\n",
        "sou_dicionario['chave_string']"
      ],
      "metadata": {
        "id": "W6CMp86U0c_q",
        "colab": {
          "base_uri": "https://localhost:8080/",
          "height": 202
        },
        "outputId": "72f44d4a-f8f9-4c6e-b498-b4d9e1b503f3"
      },
      "execution_count": 93,
      "outputs": [
        {
          "output_type": "error",
          "ename": "KeyError",
          "evalue": "ignored",
          "traceback": [
            "\u001b[0;31m---------------------------------------------------------------------------\u001b[0m",
            "\u001b[0;31mKeyError\u001b[0m                                  Traceback (most recent call last)",
            "\u001b[0;32m<ipython-input-93-b97d5cafe3f2>\u001b[0m in \u001b[0;36m<cell line: 9>\u001b[0;34m()\u001b[0m\n\u001b[1;32m      7\u001b[0m }\n\u001b[1;32m      8\u001b[0m \u001b[0;34m\u001b[0m\u001b[0m\n\u001b[0;32m----> 9\u001b[0;31m \u001b[0msou_dicionario\u001b[0m\u001b[0;34m[\u001b[0m\u001b[0;34m'chave_string'\u001b[0m\u001b[0;34m]\u001b[0m\u001b[0;34m\u001b[0m\u001b[0;34m\u001b[0m\u001b[0m\n\u001b[0m",
            "\u001b[0;31mKeyError\u001b[0m: 'chave_string'"
          ]
        }
      ]
    },
    {
      "cell_type": "code",
      "source": [
        "teste = sou_dicionario.get('chave_string')\n",
        "print(teste)"
      ],
      "metadata": {
        "colab": {
          "base_uri": "https://localhost:8080/"
        },
        "id": "G9R98opE3PMq",
        "outputId": "230678ad-4563-417a-9760-0984923dce24"
      },
      "execution_count": 95,
      "outputs": [
        {
          "output_type": "stream",
          "name": "stdout",
          "text": [
            "None\n"
          ]
        }
      ]
    },
    {
      "cell_type": "code",
      "source": [
        "sou_dicionario[10] = ('Itaquaquicetuba', 1_200_000)\n",
        "print(sou_dicionario)"
      ],
      "metadata": {
        "colab": {
          "base_uri": "https://localhost:8080/"
        },
        "id": "gkNEjSDL3elR",
        "outputId": "52ba8310-0584-4ac5-b8a7-f7c47e9b834a"
      },
      "execution_count": 97,
      "outputs": [
        {
          "output_type": "stream",
          "name": "stdout",
          "text": [
            "{100: ('Porto Alegre', 1500000), 1: ('São Paulo', 12500000), 10: ('Itaquaquicetuba', 1200000)}\n"
          ]
        }
      ]
    },
    {
      "cell_type": "code",
      "source": [
        "sou_dicionario[10] = ('Pindamonhangaba', 1_100_200_000)\n",
        "print(sou_dicionario)"
      ],
      "metadata": {
        "colab": {
          "base_uri": "https://localhost:8080/"
        },
        "id": "8ReBfzsz33g6",
        "outputId": "e4c75657-be40-4d11-895a-99b7d0f71c34"
      },
      "execution_count": 98,
      "outputs": [
        {
          "output_type": "stream",
          "name": "stdout",
          "text": [
            "{100: ('Porto Alegre', 1500000), 1: ('São Paulo', 12500000), 10: ('Pindamonhangaba', 1100200000)}\n"
          ]
        }
      ]
    },
    {
      "cell_type": "markdown",
      "source": [
        "# Duck Typing\n",
        "\n"
      ],
      "metadata": {
        "id": "hAUOSUzpbBOz"
      }
    },
    {
      "cell_type": "code",
      "source": [
        "# sou_dicionario.items()\n",
        "for chave, valor in sou_dicionario.items():\n",
        "  print('Chave', chave, '|', 'Valor', valor)"
      ],
      "metadata": {
        "id": "6nQoxo4zjk2D"
      },
      "execution_count": null,
      "outputs": []
    },
    {
      "cell_type": "code",
      "source": [
        "def imprime_itens(itens):\n",
        "  cont = 1\n",
        "  for item in itens:\n",
        "    print('Item', cont ,'| Valor', item)\n",
        "    cont += 1\n",
        "\n",
        "texto_exemplo = \"O Internacional é o maior clube do Rio Grande do Sul\"\n",
        "\n",
        "imprime_itens(texto_exemplo)"
      ],
      "metadata": {
        "id": "Du4X4uJ0bEe7",
        "colab": {
          "base_uri": "https://localhost:8080/"
        },
        "outputId": "944da5ca-d70b-4219-8632-5ab0811f103d"
      },
      "execution_count": 103,
      "outputs": [
        {
          "output_type": "stream",
          "name": "stdout",
          "text": [
            "Item 1 | Valor O\n",
            "Item 2 | Valor  \n",
            "Item 3 | Valor I\n",
            "Item 4 | Valor n\n",
            "Item 5 | Valor t\n",
            "Item 6 | Valor e\n",
            "Item 7 | Valor r\n",
            "Item 8 | Valor n\n",
            "Item 9 | Valor a\n",
            "Item 10 | Valor c\n",
            "Item 11 | Valor i\n",
            "Item 12 | Valor o\n",
            "Item 13 | Valor n\n",
            "Item 14 | Valor a\n",
            "Item 15 | Valor l\n",
            "Item 16 | Valor  \n",
            "Item 17 | Valor é\n",
            "Item 18 | Valor  \n",
            "Item 19 | Valor o\n",
            "Item 20 | Valor  \n",
            "Item 21 | Valor m\n",
            "Item 22 | Valor a\n",
            "Item 23 | Valor i\n",
            "Item 24 | Valor o\n",
            "Item 25 | Valor r\n",
            "Item 26 | Valor  \n",
            "Item 27 | Valor c\n",
            "Item 28 | Valor l\n",
            "Item 29 | Valor u\n",
            "Item 30 | Valor b\n",
            "Item 31 | Valor e\n",
            "Item 32 | Valor  \n",
            "Item 33 | Valor d\n",
            "Item 34 | Valor o\n",
            "Item 35 | Valor  \n",
            "Item 36 | Valor R\n",
            "Item 37 | Valor i\n",
            "Item 38 | Valor o\n",
            "Item 39 | Valor  \n",
            "Item 40 | Valor G\n",
            "Item 41 | Valor r\n",
            "Item 42 | Valor a\n",
            "Item 43 | Valor n\n",
            "Item 44 | Valor d\n",
            "Item 45 | Valor e\n",
            "Item 46 | Valor  \n",
            "Item 47 | Valor d\n",
            "Item 48 | Valor o\n",
            "Item 49 | Valor  \n",
            "Item 50 | Valor S\n",
            "Item 51 | Valor u\n",
            "Item 52 | Valor l\n"
          ]
        }
      ]
    },
    {
      "cell_type": "code",
      "source": [
        "palavras_texto = texto_exemplo.split(' ')\n",
        "palavras_texto"
      ],
      "metadata": {
        "id": "xmF8ihQZbe4t",
        "colab": {
          "base_uri": "https://localhost:8080/"
        },
        "outputId": "f354622e-969c-4018-b403-201a2b16959e"
      },
      "execution_count": 105,
      "outputs": [
        {
          "output_type": "execute_result",
          "data": {
            "text/plain": [
              "['O',\n",
              " 'Internacional',\n",
              " 'é',\n",
              " 'o',\n",
              " 'maior',\n",
              " 'clube',\n",
              " 'do',\n",
              " 'Rio',\n",
              " 'Grande',\n",
              " 'do',\n",
              " 'Sul']"
            ]
          },
          "metadata": {},
          "execution_count": 105
        }
      ]
    },
    {
      "cell_type": "code",
      "source": [
        "imprime_itens(palavras_texto)"
      ],
      "metadata": {
        "colab": {
          "base_uri": "https://localhost:8080/"
        },
        "id": "awveefMY6X29",
        "outputId": "ae37706e-c49d-4b07-c6f9-fbc5038b265c"
      },
      "execution_count": 106,
      "outputs": [
        {
          "output_type": "stream",
          "name": "stdout",
          "text": [
            "Item 1 | Valor O\n",
            "Item 2 | Valor Internacional\n",
            "Item 3 | Valor é\n",
            "Item 4 | Valor o\n",
            "Item 5 | Valor maior\n",
            "Item 6 | Valor clube\n",
            "Item 7 | Valor do\n",
            "Item 8 | Valor Rio\n",
            "Item 9 | Valor Grande\n",
            "Item 10 | Valor do\n",
            "Item 11 | Valor Sul\n"
          ]
        }
      ]
    },
    {
      "cell_type": "code",
      "source": [
        "1 in sou_dicionario\n",
        "0 in sou_dicionario"
      ],
      "metadata": {
        "id": "lOQIAJDwjRsa"
      },
      "execution_count": null,
      "outputs": []
    },
    {
      "cell_type": "code",
      "source": [
        "0 in sou_dicionario.values()"
      ],
      "metadata": {
        "id": "bcS_DSDKjYDe"
      },
      "execution_count": null,
      "outputs": []
    },
    {
      "cell_type": "code",
      "source": [
        "texto = 1\n",
        "texto = 'texto'\n",
        "['t', 'e', 'x', 't', 'o']\n",
        "\n",
        "\n"
      ],
      "metadata": {
        "id": "aKZ1-QtS6kk1"
      },
      "execution_count": 108,
      "outputs": []
    },
    {
      "cell_type": "markdown",
      "source": [
        "# Valores padrão em funções (pegadinha da vida real)"
      ],
      "metadata": {
        "id": "JoERFrngtPZS"
      }
    },
    {
      "cell_type": "markdown",
      "source": [
        "### Problema famoso com valores padrão de funções e dados mutáveis"
      ],
      "metadata": {
        "id": "1Vaa6BG33UQi"
      }
    },
    {
      "cell_type": "code",
      "source": [
        "# Cuidados da vida real\n",
        "\n",
        "def func_decora_dict(chave, valor, dict_decorar=None):\n",
        "  dict_decorar = dict_decorar or {}\n",
        "  dict_decorar[chave] = valor\n",
        "  return dict_decorar\n",
        "\n",
        "func_decora_dict('teste', 1)"
      ],
      "metadata": {
        "id": "k71BEtKc8vjQ",
        "colab": {
          "base_uri": "https://localhost:8080/"
        },
        "outputId": "541a096a-e86f-43b3-d18b-d9f0c8415905"
      },
      "execution_count": 101,
      "outputs": [
        {
          "output_type": "execute_result",
          "data": {
            "text/plain": [
              "{'teste': 1}"
            ]
          },
          "metadata": {},
          "execution_count": 101
        }
      ]
    },
    {
      "cell_type": "code",
      "source": [
        "func_decora_dict('teste2', 2)"
      ],
      "metadata": {
        "id": "Ub6bC6h5zEbp",
        "colab": {
          "base_uri": "https://localhost:8080/"
        },
        "outputId": "6afdae04-4b26-43f6-a3bc-8d66dae28bc8"
      },
      "execution_count": 102,
      "outputs": [
        {
          "output_type": "execute_result",
          "data": {
            "text/plain": [
              "{'teste2': 2}"
            ]
          },
          "metadata": {},
          "execution_count": 102
        }
      ]
    },
    {
      "cell_type": "code",
      "source": [
        "def func_decora_dict_corretamente(chave, valor, dict_decorar=None):\n",
        "  dict_decorar = dict_decorar or {}\n",
        "  dict_decorar[chave] = valor\n",
        "  return dict_decorar\n",
        "\n",
        "func_decora_dict_corretamente('teste', 1)"
      ],
      "metadata": {
        "id": "kqTUZ6w81MVT"
      },
      "execution_count": null,
      "outputs": []
    },
    {
      "cell_type": "code",
      "source": [
        "func_decora_dict_corretamente('teste2', 2)"
      ],
      "metadata": {
        "id": "Lj4ClQ1r1UTH"
      },
      "execution_count": null,
      "outputs": []
    },
    {
      "cell_type": "code",
      "source": [
        "def func_lista(*args, lista_default=[]):\n",
        "  lista_default.extend(args)\n",
        "  return lista_default\n",
        "\n",
        "func_lista('teste', 1)"
      ],
      "metadata": {
        "id": "db-sfl951WrJ"
      },
      "execution_count": null,
      "outputs": []
    },
    {
      "cell_type": "code",
      "source": [
        "func_lista('teste2', 2)"
      ],
      "metadata": {
        "id": "VuIQ8JPW1kAR"
      },
      "execution_count": null,
      "outputs": []
    },
    {
      "cell_type": "markdown",
      "source": [
        "## Esse problema ocorre com listas também"
      ],
      "metadata": {
        "id": "jFmFxDsh1yGc"
      }
    },
    {
      "cell_type": "code",
      "source": [
        "def func_lista_corretamente(*args, lista_default=None):\n",
        "  lista_default = lista_default or []\n",
        "  lista_default.extend(args)\n",
        "  return lista_default\n",
        "\n",
        "func_lista_corretamente('teste', 1)"
      ],
      "metadata": {
        "id": "rkW6g_CY1mlV"
      },
      "execution_count": null,
      "outputs": []
    },
    {
      "cell_type": "code",
      "source": [
        "func_lista_corretamente('teste2', 2)"
      ],
      "metadata": {
        "id": "VddhWaAG1uWD"
      },
      "execution_count": null,
      "outputs": []
    },
    {
      "cell_type": "markdown",
      "source": [
        "### Por que isso acontece?\n",
        "\n",
        "Algumas classes de coleção são mutáveis. Os métodos que adicionam, subtraem ou reorganizam seus membros no lugar, e não retornam um item específico, nunca retornam a instância da coleção propriamente dita, mas um None.\n",
        "\n",
        "(fonte: documentação oficial)"
      ],
      "metadata": {
        "id": "B8F-RQhs3z-X"
      }
    }
  ]
}
