{
  "nbformat": 4,
  "nbformat_minor": 0,
  "metadata": {
    "colab": {
      "provenance": []
    },
    "kernelspec": {
      "name": "python3",
      "display_name": "Python 3"
    },
    "language_info": {
      "name": "python"
    }
  },
  "cells": [
    {
      "cell_type": "markdown",
      "source": [
        "# Python do Início - DevJrBR\n",
        "\n",
        "## Operadores condicionais\n",
        "\n",
        "### links úteis\n",
        "\n",
        "- https://docs.python.org/3/tutorial/controlflow.html#if-statements\n",
        "- https://docs.python.org/3/reference/compound_stmts.html#the-if-statement\n",
        "- https://realpython.com/python-conditional-statements/\n"
      ],
      "metadata": {
        "id": "6wFPiqPektaf"
      }
    },
    {
      "cell_type": "markdown",
      "source": [
        "### if - elif - else\n"
      ],
      "metadata": {
        "id": "aNaqq9I4k0UL"
      }
    },
    {
      "cell_type": "code",
      "execution_count": null,
      "metadata": {
        "colab": {
          "base_uri": "https://localhost:8080/"
        },
        "id": "yn15bhFzkcO4",
        "outputId": "ad3f957e-ad3b-4d65-ecac-f0ad992e7564"
      },
      "outputs": [
        {
          "output_type": "stream",
          "name": "stdout",
          "text": [
            "Qual a idade (em anos)?18\n",
            "É maior\n"
          ]
        }
      ],
      "source": [
        "MAIORIDADE = 18\n",
        "\n",
        "idade = input('Qual a idade (em anos)?')\n",
        "\n",
        "idade = int(idade)\n",
        "\n",
        "if idade < MAIORIDADE:\n",
        "  print('É menor')\n",
        "else:\n",
        "  print('É maior')"
      ]
    },
    {
      "cell_type": "code",
      "source": [
        "# vida real\n",
        "MAIORIDADE = 18\n",
        "\n",
        "idade = input('Qual a idade (em anos)?')\n",
        "idade = int(idade)\n",
        "\n",
        "if idade < 0:\n",
        "  print('Espertinho, idade inválida!')\n",
        "else:\n",
        "  if idade < MAIORIDADE:\n",
        "    print('É menor')\n",
        "  else:\n",
        "    print('É maior')"
      ],
      "metadata": {
        "colab": {
          "base_uri": "https://localhost:8080/",
          "height": 388
        },
        "id": "ItyIaT8Go9yw",
        "outputId": "5d69c073-875c-49cc-b06d-6eb68059b0b5"
      },
      "execution_count": null,
      "outputs": [
        {
          "output_type": "error",
          "ename": "KeyboardInterrupt",
          "evalue": "ignored",
          "traceback": [
            "\u001b[0;31m---------------------------------------------------------------------------\u001b[0m",
            "\u001b[0;31mKeyboardInterrupt\u001b[0m                         Traceback (most recent call last)",
            "\u001b[0;32m<ipython-input-6-ac477e6199e1>\u001b[0m in \u001b[0;36m<cell line: 4>\u001b[0;34m()\u001b[0m\n\u001b[1;32m      2\u001b[0m \u001b[0mMAIORIDADE\u001b[0m \u001b[0;34m=\u001b[0m \u001b[0;36m18\u001b[0m\u001b[0;34m\u001b[0m\u001b[0;34m\u001b[0m\u001b[0m\n\u001b[1;32m      3\u001b[0m \u001b[0;34m\u001b[0m\u001b[0m\n\u001b[0;32m----> 4\u001b[0;31m \u001b[0midade\u001b[0m \u001b[0;34m=\u001b[0m \u001b[0minput\u001b[0m\u001b[0;34m(\u001b[0m\u001b[0;34m'Qual a idade (em anos)?'\u001b[0m\u001b[0;34m)\u001b[0m\u001b[0;34m\u001b[0m\u001b[0;34m\u001b[0m\u001b[0m\n\u001b[0m\u001b[1;32m      5\u001b[0m \u001b[0midade\u001b[0m \u001b[0;34m=\u001b[0m \u001b[0mint\u001b[0m\u001b[0;34m(\u001b[0m\u001b[0midade\u001b[0m\u001b[0;34m)\u001b[0m\u001b[0;34m\u001b[0m\u001b[0;34m\u001b[0m\u001b[0m\n\u001b[1;32m      6\u001b[0m \u001b[0;34m\u001b[0m\u001b[0m\n",
            "\u001b[0;32m/usr/local/lib/python3.10/dist-packages/ipykernel/kernelbase.py\u001b[0m in \u001b[0;36mraw_input\u001b[0;34m(self, prompt)\u001b[0m\n\u001b[1;32m    849\u001b[0m                 \u001b[0;34m\"raw_input was called, but this frontend does not support input requests.\"\u001b[0m\u001b[0;34m\u001b[0m\u001b[0;34m\u001b[0m\u001b[0m\n\u001b[1;32m    850\u001b[0m             )\n\u001b[0;32m--> 851\u001b[0;31m         return self._input_request(str(prompt),\n\u001b[0m\u001b[1;32m    852\u001b[0m             \u001b[0mself\u001b[0m\u001b[0;34m.\u001b[0m\u001b[0m_parent_ident\u001b[0m\u001b[0;34m,\u001b[0m\u001b[0;34m\u001b[0m\u001b[0;34m\u001b[0m\u001b[0m\n\u001b[1;32m    853\u001b[0m             \u001b[0mself\u001b[0m\u001b[0;34m.\u001b[0m\u001b[0m_parent_header\u001b[0m\u001b[0;34m,\u001b[0m\u001b[0;34m\u001b[0m\u001b[0;34m\u001b[0m\u001b[0m\n",
            "\u001b[0;32m/usr/local/lib/python3.10/dist-packages/ipykernel/kernelbase.py\u001b[0m in \u001b[0;36m_input_request\u001b[0;34m(self, prompt, ident, parent, password)\u001b[0m\n\u001b[1;32m    893\u001b[0m             \u001b[0;32mexcept\u001b[0m \u001b[0mKeyboardInterrupt\u001b[0m\u001b[0;34m:\u001b[0m\u001b[0;34m\u001b[0m\u001b[0;34m\u001b[0m\u001b[0m\n\u001b[1;32m    894\u001b[0m                 \u001b[0;31m# re-raise KeyboardInterrupt, to truncate traceback\u001b[0m\u001b[0;34m\u001b[0m\u001b[0;34m\u001b[0m\u001b[0m\n\u001b[0;32m--> 895\u001b[0;31m                 \u001b[0;32mraise\u001b[0m \u001b[0mKeyboardInterrupt\u001b[0m\u001b[0;34m(\u001b[0m\u001b[0;34m\"Interrupted by user\"\u001b[0m\u001b[0;34m)\u001b[0m \u001b[0;32mfrom\u001b[0m \u001b[0;32mNone\u001b[0m\u001b[0;34m\u001b[0m\u001b[0;34m\u001b[0m\u001b[0m\n\u001b[0m\u001b[1;32m    896\u001b[0m             \u001b[0;32mexcept\u001b[0m \u001b[0mException\u001b[0m \u001b[0;32mas\u001b[0m \u001b[0me\u001b[0m\u001b[0;34m:\u001b[0m\u001b[0;34m\u001b[0m\u001b[0;34m\u001b[0m\u001b[0m\n\u001b[1;32m    897\u001b[0m                 \u001b[0mself\u001b[0m\u001b[0;34m.\u001b[0m\u001b[0mlog\u001b[0m\u001b[0;34m.\u001b[0m\u001b[0mwarning\u001b[0m\u001b[0;34m(\u001b[0m\u001b[0;34m\"Invalid Message:\"\u001b[0m\u001b[0;34m,\u001b[0m \u001b[0mexc_info\u001b[0m\u001b[0;34m=\u001b[0m\u001b[0;32mTrue\u001b[0m\u001b[0;34m)\u001b[0m\u001b[0;34m\u001b[0m\u001b[0;34m\u001b[0m\u001b[0m\n",
            "\u001b[0;31mKeyboardInterrupt\u001b[0m: Interrupted by user"
          ]
        }
      ]
    },
    {
      "cell_type": "code",
      "source": [
        "# vida real (mais pythonico)\n",
        "MAIORIDADE = 18\n",
        "\n",
        "idade = input('Qual a idade (em anos)?')\n",
        "idade = int(idade)\n",
        "\n",
        "if idade < 0:\n",
        "  print('Espertinho, idade inválida!')\n",
        "elif idade < MAIORIDADE:\n",
        "  print('É menor')\n",
        "else:\n",
        "  print('É maior')"
      ],
      "metadata": {
        "colab": {
          "base_uri": "https://localhost:8080/"
        },
        "id": "2UYDJ0xZprOy",
        "outputId": "207ab7d6-05c6-4ddd-fa7e-c7cf3e6810ba"
      },
      "execution_count": null,
      "outputs": [
        {
          "output_type": "stream",
          "name": "stdout",
          "text": [
            "Qual a idade (em anos)?-5\n",
            "Espertinho, idade inválida!\n"
          ]
        }
      ]
    },
    {
      "cell_type": "code",
      "source": [
        "lista = [12, 10, 3, 4, 5, 'ok', 1.2, complex(2, 1), ['a', 'b', 'c'] ]\n",
        "\n",
        "if 10 in lista:\n",
        "  print('A lista tem um dez')\n",
        "elif 12 in lista:\n",
        "  print('A lista em um doze')\n",
        "else:\n",
        "  print('Deu caca.')"
      ],
      "metadata": {
        "colab": {
          "base_uri": "https://localhost:8080/"
        },
        "id": "puNzVmwlrD_c",
        "outputId": "cb52dd85-8450-472a-f29d-178a758a6fb4"
      },
      "execution_count": null,
      "outputs": [
        {
          "output_type": "stream",
          "name": "stdout",
          "text": [
            "A lista tem um dez\n"
          ]
        }
      ]
    },
    {
      "cell_type": "code",
      "source": [
        "# listar\n",
        "# imprimir\n",
        "# excluir\n",
        "# criar\n",
        "\n",
        "operacao = input('O que posso fazer por você hoje? ')\n",
        "\n",
        "if operacao == 'c' or operacao == 'criar':\n",
        "  print('CRIEI TUDO')\n",
        "  len(operacao)\n",
        "elif operacao == 'i' or operacao == 'imprimir':\n",
        "  print('OLHA NA IMPRESSORA, ESPERTO')\n",
        "elif operacao == 'e' or operacao == 'excluir':\n",
        "  print('PERDEU TUDO')\n",
        "elif operacao == 'l' or operacao == 'listar':\n",
        "  print('R$ 0,00')"
      ],
      "metadata": {
        "colab": {
          "base_uri": "https://localhost:8080/"
        },
        "id": "v5dPn_H0s3SE",
        "outputId": "a1bd891f-f780-4db2-ce19-85553b64bc74"
      },
      "execution_count": null,
      "outputs": [
        {
          "output_type": "stream",
          "name": "stdout",
          "text": [
            "O que posso fazer por você hoje? e\n",
            "PERDEU TUDO\n"
          ]
        }
      ]
    },
    {
      "cell_type": "code",
      "source": [
        "operacao = input('O que posso fazer por você hoje? ')\n",
        "\n",
        "if operacao in ['c', 'criar']:\n",
        "  print('CRIEI TUDO')\n",
        "  len(operacao)\n",
        "elif operacao in ('i', 'imprimir'):\n",
        "  print('OLHA NA IMPRESSORA, ESPERTO')\n",
        "elif operacao in {'e', 'excluir'}:\n",
        "  print('PERDEU TUDO')\n",
        "elif operacao in ['l', 'listar']:\n",
        "  print('R$ 0,00')"
      ],
      "metadata": {
        "colab": {
          "base_uri": "https://localhost:8080/"
        },
        "id": "Axz_DgaDxOI_",
        "outputId": "3b5bbf9c-60ba-49d0-8c7d-3fe250af4136"
      },
      "execution_count": null,
      "outputs": [
        {
          "output_type": "stream",
          "name": "stdout",
          "text": [
            "O que posso fazer por você hoje? listar\n",
            "R$ 0,00\n"
          ]
        }
      ]
    },
    {
      "cell_type": "code",
      "source": [
        "OPERACOES = {\n",
        "    'c': 'CRIEI TUDO',\n",
        "    'criar': 'CRIEI TUDO',\n",
        "    #\n",
        "    'i': 'OLHA NA IMPRESSORA, ESPERTO',\n",
        "    'imprimir': 'OLHA NA IMPRESSORA, ESPERTO',\n",
        "    #\n",
        "    'e': 'PERDEU TUDO',\n",
        "    'excluir': 'PERDEU TUDO',\n",
        "    #\n",
        "    'l': 'R$ 0,00',\n",
        "    'listar': 'R$ 0,00',\n",
        "}\n",
        "\n",
        "operacao = input('O que posso fazer por você hoje? ')\n",
        "\n",
        "resultado_operacao = OPERACOES[operacao]\n",
        "print(resultado_operacao)"
      ],
      "metadata": {
        "colab": {
          "base_uri": "https://localhost:8080/",
          "height": 388
        },
        "id": "4_QRBVq4vWnY",
        "outputId": "6dd18b53-8e15-494b-bd71-30177a35470d"
      },
      "execution_count": null,
      "outputs": [
        {
          "output_type": "error",
          "ename": "KeyboardInterrupt",
          "evalue": "ignored",
          "traceback": [
            "\u001b[0;31m---------------------------------------------------------------------------\u001b[0m",
            "\u001b[0;31mKeyboardInterrupt\u001b[0m                         Traceback (most recent call last)",
            "\u001b[0;32m<ipython-input-27-67ded592a02b>\u001b[0m in \u001b[0;36m<cell line: 15>\u001b[0;34m()\u001b[0m\n\u001b[1;32m     13\u001b[0m }\n\u001b[1;32m     14\u001b[0m \u001b[0;34m\u001b[0m\u001b[0m\n\u001b[0;32m---> 15\u001b[0;31m \u001b[0moperacao\u001b[0m \u001b[0;34m=\u001b[0m \u001b[0minput\u001b[0m\u001b[0;34m(\u001b[0m\u001b[0;34m'O que posso fazer por você hoje? '\u001b[0m\u001b[0;34m)\u001b[0m\u001b[0;34m\u001b[0m\u001b[0;34m\u001b[0m\u001b[0m\n\u001b[0m\u001b[1;32m     16\u001b[0m \u001b[0;34m\u001b[0m\u001b[0m\n\u001b[1;32m     17\u001b[0m \u001b[0mresultado_operacao\u001b[0m \u001b[0;34m=\u001b[0m \u001b[0mOPERACOES\u001b[0m\u001b[0;34m[\u001b[0m\u001b[0moperacao\u001b[0m\u001b[0;34m]\u001b[0m\u001b[0;34m\u001b[0m\u001b[0;34m\u001b[0m\u001b[0m\n",
            "\u001b[0;32m/usr/local/lib/python3.10/dist-packages/ipykernel/kernelbase.py\u001b[0m in \u001b[0;36mraw_input\u001b[0;34m(self, prompt)\u001b[0m\n\u001b[1;32m    849\u001b[0m                 \u001b[0;34m\"raw_input was called, but this frontend does not support input requests.\"\u001b[0m\u001b[0;34m\u001b[0m\u001b[0;34m\u001b[0m\u001b[0m\n\u001b[1;32m    850\u001b[0m             )\n\u001b[0;32m--> 851\u001b[0;31m         return self._input_request(str(prompt),\n\u001b[0m\u001b[1;32m    852\u001b[0m             \u001b[0mself\u001b[0m\u001b[0;34m.\u001b[0m\u001b[0m_parent_ident\u001b[0m\u001b[0;34m,\u001b[0m\u001b[0;34m\u001b[0m\u001b[0;34m\u001b[0m\u001b[0m\n\u001b[1;32m    853\u001b[0m             \u001b[0mself\u001b[0m\u001b[0;34m.\u001b[0m\u001b[0m_parent_header\u001b[0m\u001b[0;34m,\u001b[0m\u001b[0;34m\u001b[0m\u001b[0;34m\u001b[0m\u001b[0m\n",
            "\u001b[0;32m/usr/local/lib/python3.10/dist-packages/ipykernel/kernelbase.py\u001b[0m in \u001b[0;36m_input_request\u001b[0;34m(self, prompt, ident, parent, password)\u001b[0m\n\u001b[1;32m    893\u001b[0m             \u001b[0;32mexcept\u001b[0m \u001b[0mKeyboardInterrupt\u001b[0m\u001b[0;34m:\u001b[0m\u001b[0;34m\u001b[0m\u001b[0;34m\u001b[0m\u001b[0m\n\u001b[1;32m    894\u001b[0m                 \u001b[0;31m# re-raise KeyboardInterrupt, to truncate traceback\u001b[0m\u001b[0;34m\u001b[0m\u001b[0;34m\u001b[0m\u001b[0m\n\u001b[0;32m--> 895\u001b[0;31m                 \u001b[0;32mraise\u001b[0m \u001b[0mKeyboardInterrupt\u001b[0m\u001b[0;34m(\u001b[0m\u001b[0;34m\"Interrupted by user\"\u001b[0m\u001b[0;34m)\u001b[0m \u001b[0;32mfrom\u001b[0m \u001b[0;32mNone\u001b[0m\u001b[0;34m\u001b[0m\u001b[0;34m\u001b[0m\u001b[0m\n\u001b[0m\u001b[1;32m    896\u001b[0m             \u001b[0;32mexcept\u001b[0m \u001b[0mException\u001b[0m \u001b[0;32mas\u001b[0m \u001b[0me\u001b[0m\u001b[0;34m:\u001b[0m\u001b[0;34m\u001b[0m\u001b[0;34m\u001b[0m\u001b[0m\n\u001b[1;32m    897\u001b[0m                 \u001b[0mself\u001b[0m\u001b[0;34m.\u001b[0m\u001b[0mlog\u001b[0m\u001b[0;34m.\u001b[0m\u001b[0mwarning\u001b[0m\u001b[0;34m(\u001b[0m\u001b[0;34m\"Invalid Message:\"\u001b[0m\u001b[0;34m,\u001b[0m \u001b[0mexc_info\u001b[0m\u001b[0;34m=\u001b[0m\u001b[0;32mTrue\u001b[0m\u001b[0;34m)\u001b[0m\u001b[0;34m\u001b[0m\u001b[0;34m\u001b[0m\u001b[0m\n",
            "\u001b[0;31mKeyboardInterrupt\u001b[0m: Interrupted by user"
          ]
        }
      ]
    },
    {
      "cell_type": "markdown",
      "source": [
        "### operador ternário"
      ],
      "metadata": {
        "id": "UShS7a9glhU-"
      }
    },
    {
      "cell_type": "code",
      "source": [
        "operacao = input('O que posso fazer por você hoje? ')\n",
        "\n",
        "tipo_de_comando = 'Forma compacta' if len(operacao) < 2 else 'Forma completa'\n",
        "# (condicao)?(valor se verdadeiro):(valor se falso)\n",
        "# (valor se verdadeiro) if (condicao) else (valor se falso)\n",
        "\n",
        "print(tipo_de_comando)"
      ],
      "metadata": {
        "id": "JgtB-X4dlpYd"
      },
      "execution_count": null,
      "outputs": []
    },
    {
      "cell_type": "code",
      "source": [
        "operacao"
      ],
      "metadata": {
        "colab": {
          "base_uri": "https://localhost:8080/",
          "height": 35
        },
        "id": "430PPAmJz5-I",
        "outputId": "45ea0ad9-a21f-4cc0-c3ed-0c4f53b2ddd1"
      },
      "execution_count": null,
      "outputs": [
        {
          "output_type": "execute_result",
          "data": {
            "text/plain": [
              "'criar'"
            ],
            "application/vnd.google.colaboratory.intrinsic+json": {
              "type": "string"
            }
          },
          "metadata": {},
          "execution_count": 34
        }
      ]
    },
    {
      "cell_type": "markdown",
      "source": [
        "### expressões de atribuição (python 3.8 ou superior)\n"
      ],
      "metadata": {
        "id": "3uPYwoZelp22"
      }
    },
    {
      "cell_type": "code",
      "source": [
        "# walrus\n",
        "\n",
        "tamanho_operação = len(operacao)\n",
        "if tamanho_operação > 1:\n",
        "  print('Forma completa de tamanho', tamanho_operação)\n",
        "else:\n",
        "  print('Forma compacta')"
      ],
      "metadata": {
        "colab": {
          "base_uri": "https://localhost:8080/"
        },
        "id": "pCtNPRgvlqXh",
        "outputId": "de322047-341a-434a-97c2-06f9d7c3bc16"
      },
      "execution_count": null,
      "outputs": [
        {
          "output_type": "stream",
          "name": "stdout",
          "text": [
            "Forma completa de tamanho 5\n"
          ]
        }
      ]
    },
    {
      "cell_type": "code",
      "source": [
        "operacao = input('O que posso fazer por você hoje? ')\n",
        "\n",
        "if (tamanho_operação := len(operacao)) > 1:\n",
        "  print('Forma completa de tamanho', tamanho_operação)\n",
        "else:\n",
        "  print(tamanho_operação)\n",
        "  print('Forma compacta')"
      ],
      "metadata": {
        "colab": {
          "base_uri": "https://localhost:8080/"
        },
        "id": "CSRbGQYX0BYk",
        "outputId": "61f105ed-8ffc-4814-9f92-5dda82f0cfcb"
      },
      "execution_count": null,
      "outputs": [
        {
          "output_type": "stream",
          "name": "stdout",
          "text": [
            "O que posso fazer por você hoje? tistre\n",
            "Forma completa de tamanho 6\n"
          ]
        }
      ]
    },
    {
      "cell_type": "markdown",
      "source": [
        "### match (python 3.10 ou superior)"
      ],
      "metadata": {
        "id": "qHI9drmYk3mj"
      }
    },
    {
      "cell_type": "code",
      "source": [
        "operacao = input('O que posso fazer por você hoje? ')\n",
        "\n",
        "match operacao:\n",
        "  case 'c' | 'criar':\n",
        "    print('CRIEI TUDO')\n",
        "  case 'i' | 'incluir':\n",
        "    print('OLHA NA IMPRESSORA, ESPERTO')\n",
        "  case 'e' | 'excluir':\n",
        "    print('PERDEU TUDO')\n",
        "  case 'l' | 'listar':\n",
        "    print('R$ 0,00')"
      ],
      "metadata": {
        "colab": {
          "base_uri": "https://localhost:8080/"
        },
        "id": "zC3GhkWok7aN",
        "outputId": "fbfd64b5-e0b5-470a-a8e4-faef32065651"
      },
      "execution_count": null,
      "outputs": [
        {
          "output_type": "stream",
          "name": "stdout",
          "text": [
            "O que posso fazer por você hoje? listar\n",
            "R$ 0,00\n"
          ]
        }
      ]
    },
    {
      "cell_type": "code",
      "source": [
        "operacao = ['criar', 'teste.txt', 'teste2.txt', 'badanha.txt', 24 ,5 ,654 ,6 ,5]\n",
        "# operacao = 'teste'\n",
        "# \n",
        "match operacao:\n",
        "  case ['c' | 'criar', *arquivos]:\n",
        "    print('CRIEI TUDO', arquivos)\n",
        "    if len(arquivos) > 10:\n",
        "      print('Preguiça, mano, manda menos!')\n",
        "  case 'i' | 'incluir':\n",
        "    print('OLHA NA IMPRESSORA, ESPERTO')\n",
        "  case 'e' | 'excluir':\n",
        "    print('PERDEU TUDO')\n",
        "  case 'l' | 'listar':\n",
        "    print('R$ 0,00')\n",
        "  case _:\n",
        "    print('Nem te conheço')"
      ],
      "metadata": {
        "colab": {
          "base_uri": "https://localhost:8080/"
        },
        "id": "Ave9n67F2KxO",
        "outputId": "61a30813-49e1-4155-fc7e-24ce62542de1"
      },
      "execution_count": null,
      "outputs": [
        {
          "output_type": "stream",
          "name": "stdout",
          "text": [
            "CRIEI TUDO ['teste.txt', 'teste2.txt', 'badanha.txt', 24, 5, 654, 6, 5]\n"
          ]
        }
      ]
    },
    {
      "cell_type": "code",
      "source": [],
      "metadata": {
        "id": "PKIffQ8e2-r8"
      },
      "execution_count": null,
      "outputs": []
    }
  ]
}
